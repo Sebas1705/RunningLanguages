{
 "cells": [
  {
   "cell_type": "markdown",
   "metadata": {},
   "source": [
    "### Clasificador Euclídeo"
   ]
  },
  {
   "cell_type": "code",
   "execution_count": 5,
   "metadata": {},
   "outputs": [
    {
     "name": "stdout",
     "output_type": "stream",
     "text": [
      "['sepal length (cm)', 'sepal width (cm)', 'petal length (cm)', 'petal width (cm)']\n",
      "dataDim= (150, 4)\n",
      "data= [[5.1 3.5 1.4 0.2]\n",
      " [4.9 3.  1.4 0.2]\n",
      " [4.7 3.2 1.3 0.2]\n",
      " [4.6 3.1 1.5 0.2]\n",
      " [5.  3.6 1.4 0.2]\n",
      " [5.4 3.9 1.7 0.4]\n",
      " [4.6 3.4 1.4 0.3]\n",
      " [5.  3.4 1.5 0.2]\n",
      " [4.4 2.9 1.4 0.2]\n",
      " [4.9 3.1 1.5 0.1]\n",
      " [5.4 3.7 1.5 0.2]\n",
      " [4.8 3.4 1.6 0.2]\n",
      " [4.8 3.  1.4 0.1]\n",
      " [4.3 3.  1.1 0.1]\n",
      " [5.8 4.  1.2 0.2]\n",
      " [5.7 4.4 1.5 0.4]\n",
      " [5.4 3.9 1.3 0.4]\n",
      " [5.1 3.5 1.4 0.3]\n",
      " [5.7 3.8 1.7 0.3]\n",
      " [5.1 3.8 1.5 0.3]\n",
      " [5.4 3.4 1.7 0.2]\n",
      " [5.1 3.7 1.5 0.4]\n",
      " [4.6 3.6 1.  0.2]\n",
      " [5.1 3.3 1.7 0.5]\n",
      " [4.8 3.4 1.9 0.2]\n",
      " [5.  3.  1.6 0.2]\n",
      " [5.  3.4 1.6 0.4]\n",
      " [5.2 3.5 1.5 0.2]\n",
      " [5.2 3.4 1.4 0.2]\n",
      " [4.7 3.2 1.6 0.2]\n",
      " [4.8 3.1 1.6 0.2]\n",
      " [5.4 3.4 1.5 0.4]\n",
      " [5.2 4.1 1.5 0.1]\n",
      " [5.5 4.2 1.4 0.2]\n",
      " [4.9 3.1 1.5 0.2]\n",
      " [5.  3.2 1.2 0.2]\n",
      " [5.5 3.5 1.3 0.2]\n",
      " [4.9 3.6 1.4 0.1]\n",
      " [4.4 3.  1.3 0.2]\n",
      " [5.1 3.4 1.5 0.2]\n",
      " [5.  3.5 1.3 0.3]\n",
      " [4.5 2.3 1.3 0.3]\n",
      " [4.4 3.2 1.3 0.2]\n",
      " [5.  3.5 1.6 0.6]\n",
      " [5.1 3.8 1.9 0.4]\n",
      " [4.8 3.  1.4 0.3]\n",
      " [5.1 3.8 1.6 0.2]\n",
      " [4.6 3.2 1.4 0.2]\n",
      " [5.3 3.7 1.5 0.2]\n",
      " [5.  3.3 1.4 0.2]\n",
      " [7.  3.2 4.7 1.4]\n",
      " [6.4 3.2 4.5 1.5]\n",
      " [6.9 3.1 4.9 1.5]\n",
      " [5.5 2.3 4.  1.3]\n",
      " [6.5 2.8 4.6 1.5]\n",
      " [5.7 2.8 4.5 1.3]\n",
      " [6.3 3.3 4.7 1.6]\n",
      " [4.9 2.4 3.3 1. ]\n",
      " [6.6 2.9 4.6 1.3]\n",
      " [5.2 2.7 3.9 1.4]\n",
      " [5.  2.  3.5 1. ]\n",
      " [5.9 3.  4.2 1.5]\n",
      " [6.  2.2 4.  1. ]\n",
      " [6.1 2.9 4.7 1.4]\n",
      " [5.6 2.9 3.6 1.3]\n",
      " [6.7 3.1 4.4 1.4]\n",
      " [5.6 3.  4.5 1.5]\n",
      " [5.8 2.7 4.1 1. ]\n",
      " [6.2 2.2 4.5 1.5]\n",
      " [5.6 2.5 3.9 1.1]\n",
      " [5.9 3.2 4.8 1.8]\n",
      " [6.1 2.8 4.  1.3]\n",
      " [6.3 2.5 4.9 1.5]\n",
      " [6.1 2.8 4.7 1.2]\n",
      " [6.4 2.9 4.3 1.3]\n",
      " [6.6 3.  4.4 1.4]\n",
      " [6.8 2.8 4.8 1.4]\n",
      " [6.7 3.  5.  1.7]\n",
      " [6.  2.9 4.5 1.5]\n",
      " [5.7 2.6 3.5 1. ]\n",
      " [5.5 2.4 3.8 1.1]\n",
      " [5.5 2.4 3.7 1. ]\n",
      " [5.8 2.7 3.9 1.2]\n",
      " [6.  2.7 5.1 1.6]\n",
      " [5.4 3.  4.5 1.5]\n",
      " [6.  3.4 4.5 1.6]\n",
      " [6.7 3.1 4.7 1.5]\n",
      " [6.3 2.3 4.4 1.3]\n",
      " [5.6 3.  4.1 1.3]\n",
      " [5.5 2.5 4.  1.3]\n",
      " [5.5 2.6 4.4 1.2]\n",
      " [6.1 3.  4.6 1.4]\n",
      " [5.8 2.6 4.  1.2]\n",
      " [5.  2.3 3.3 1. ]\n",
      " [5.6 2.7 4.2 1.3]\n",
      " [5.7 3.  4.2 1.2]\n",
      " [5.7 2.9 4.2 1.3]\n",
      " [6.2 2.9 4.3 1.3]\n",
      " [5.1 2.5 3.  1.1]\n",
      " [5.7 2.8 4.1 1.3]\n",
      " [6.3 3.3 6.  2.5]\n",
      " [5.8 2.7 5.1 1.9]\n",
      " [7.1 3.  5.9 2.1]\n",
      " [6.3 2.9 5.6 1.8]\n",
      " [6.5 3.  5.8 2.2]\n",
      " [7.6 3.  6.6 2.1]\n",
      " [4.9 2.5 4.5 1.7]\n",
      " [7.3 2.9 6.3 1.8]\n",
      " [6.7 2.5 5.8 1.8]\n",
      " [7.2 3.6 6.1 2.5]\n",
      " [6.5 3.2 5.1 2. ]\n",
      " [6.4 2.7 5.3 1.9]\n",
      " [6.8 3.  5.5 2.1]\n",
      " [5.7 2.5 5.  2. ]\n",
      " [5.8 2.8 5.1 2.4]\n",
      " [6.4 3.2 5.3 2.3]\n",
      " [6.5 3.  5.5 1.8]\n",
      " [7.7 3.8 6.7 2.2]\n",
      " [7.7 2.6 6.9 2.3]\n",
      " [6.  2.2 5.  1.5]\n",
      " [6.9 3.2 5.7 2.3]\n",
      " [5.6 2.8 4.9 2. ]\n",
      " [7.7 2.8 6.7 2. ]\n",
      " [6.3 2.7 4.9 1.8]\n",
      " [6.7 3.3 5.7 2.1]\n",
      " [7.2 3.2 6.  1.8]\n",
      " [6.2 2.8 4.8 1.8]\n",
      " [6.1 3.  4.9 1.8]\n",
      " [6.4 2.8 5.6 2.1]\n",
      " [7.2 3.  5.8 1.6]\n",
      " [7.4 2.8 6.1 1.9]\n",
      " [7.9 3.8 6.4 2. ]\n",
      " [6.4 2.8 5.6 2.2]\n",
      " [6.3 2.8 5.1 1.5]\n",
      " [6.1 2.6 5.6 1.4]\n",
      " [7.7 3.  6.1 2.3]\n",
      " [6.3 3.4 5.6 2.4]\n",
      " [6.4 3.1 5.5 1.8]\n",
      " [6.  3.  4.8 1.8]\n",
      " [6.9 3.1 5.4 2.1]\n",
      " [6.7 3.1 5.6 2.4]\n",
      " [6.9 3.1 5.1 2.3]\n",
      " [5.8 2.7 5.1 1.9]\n",
      " [6.8 3.2 5.9 2.3]\n",
      " [6.7 3.3 5.7 2.5]\n",
      " [6.7 3.  5.2 2.3]\n",
      " [6.3 2.5 5.  1.9]\n",
      " [6.5 3.  5.2 2. ]\n",
      " [6.2 3.4 5.4 2.3]\n",
      " [5.9 3.  5.1 1.8]]\n",
      "['setosa' 'versicolor' 'virginica']\n",
      "targetDim= (150,)\n",
      "target= [0 0 0 0 0 0 0 0 0 0 0 0 0 0 0 0 0 0 0 0 0 0 0 0 0 0 0 0 0 0 0 0 0 0 0 0 0\n",
      " 0 0 0 0 0 0 0 0 0 0 0 0 0 1 1 1 1 1 1 1 1 1 1 1 1 1 1 1 1 1 1 1 1 1 1 1 1\n",
      " 1 1 1 1 1 1 1 1 1 1 1 1 1 1 1 1 1 1 1 1 1 1 1 1 1 1 2 2 2 2 2 2 2 2 2 2 2\n",
      " 2 2 2 2 2 2 2 2 2 2 2 2 2 2 2 2 2 2 2 2 2 2 2 2 2 2 2 2 2 2 2 2 2 2 2 2 2\n",
      " 2 2]\n"
     ]
    }
   ],
   "source": [
    "import numpy as np\n",
    "from matplotlib import pyplot as plt\n",
    "from sklearn import datasets \n",
    "\n",
    "#Carga un dataset de ejemplo\n",
    "dataset = datasets.load_iris()\n",
    "\n",
    "#Imprime el dataset para verlo\n",
    "print(dataset.feature_names) \n",
    "print(\"dataDim=\",dataset.data.shape)\n",
    "print(\"data=\",dataset.data)\n",
    "\n",
    "print(dataset.target_names)\n",
    "print(\"targetDim=\",dataset.target.shape)\n",
    "print(\"target=\",dataset.target)"
   ]
  },
  {
   "cell_type": "code",
   "execution_count": 6,
   "metadata": {},
   "outputs": [],
   "source": [
    "X = dataset.data[:,2:4]\n",
    "Y = dataset.target"
   ]
  },
  {
   "cell_type": "code",
   "execution_count": 7,
   "metadata": {},
   "outputs": [],
   "source": [
    "import numpy as np\n",
    "\n",
    "c1 = X[Y==0]\n",
    "c2 = X[Y==1]\n",
    "c3 = X[Y==2]\n",
    "\n",
    "z1 = np.mean(c1,axis=0)\n",
    "z2 = np.mean(c2,axis=0)\n",
    "z3 = np.mean(c3,axis=0)"
   ]
  },
  {
   "cell_type": "code",
   "execution_count": 8,
   "metadata": {},
   "outputs": [
    {
     "data": {
      "image/png": "[encoded data removed]",
      "text/plain": [
       "<Figure size 432x288 with 1 Axes>"
      ]
     },
     "metadata": {
      "needs_background": "light"
     },
     "output_type": "display_data"
    }
   ],
   "source": [
    "import matplotlib.pyplot as plt\n",
    "\n",
    "plt.plot(c1[:,0],c1[:,1],'+',color='red')\n",
    "plt.plot(c2[:,0],c2[:,1],'+',color='blue')\n",
    "plt.plot(c3[:,0],c3[:,1],'+',color='green')\n",
    "plt.plot(z1[0],z1[1],'o',color='red')\n",
    "plt.plot(z2[0],z2[1],'o',color='blue')\n",
    "plt.plot(z3[0],z3[1],'o',color='green')\n",
    "\n",
    "plt.show()"
   ]
  },
  {
   "cell_type": "code",
   "execution_count": 9,
   "metadata": {},
   "outputs": [
    {
     "name": "stdout",
     "output_type": "stream",
     "text": [
      "Es versicolor\n"
     ]
    }
   ],
   "source": [
    "patron_desconocido=np.array([3,0.5])\n",
    "d1 = np.sqrt(np.sum((z1-patron_desconocido)**2))\n",
    "d2 = np.sqrt(np.sum((z2-patron_desconocido)**2))\n",
    "d3 = np.sqrt(np.sum((z3-patron_desconocido)**2))\n",
    "\n",
    "minimo = np.min([d1,d2,d3])\n",
    "\n",
    "if d1 == minimo:\n",
    "    print(\"Es setosa\")\n",
    "elif d2 == minimo:\n",
    "    print(\"Es versicolor\")\n",
    "else:\n",
    "    print(\"Es virginica\")"
   ]
  },
  {
   "cell_type": "markdown",
   "metadata": {},
   "source": [
    "### Clasificador knn"
   ]
  },
  {
   "cell_type": "code",
   "execution_count": 10,
   "metadata": {},
   "outputs": [
    {
     "name": "stdout",
     "output_type": "stream",
     "text": [
      "Accuracy of K-NN classifier on training set: 0.96\n",
      "Accuracy of K-NN classifier on test set: 0.97\n"
     ]
    }
   ],
   "source": [
    "from sklearn.neighbors import KNeighborsClassifier\n",
    "from sklearn.model_selection import train_test_split\n",
    "X_train, X_test, y_train, y_test = train_test_split(X,Y, random_state=0)\n",
    "n_neighbors=3\n",
    "\n",
    "knn = KNeighborsClassifier(n_neighbors)\n",
    "knn.fit(X_train, y_train)\n",
    "print('Accuracy of K-NN classifier on training set: {:.2f}'\n",
    "     .format(knn.score(X_train, y_train)))\n",
    "print('Accuracy of K-NN classifier on test set: {:.2f}'\n",
    "     .format(knn.score(X_test, y_test)))"
   ]
  },
  {
   "cell_type": "markdown",
   "metadata": {},
   "source": [
    "### Clasificador Paramétrico Bayesiano (basado en gaussianas)"
   ]
  },
  {
   "cell_type": "code",
   "execution_count": 11,
   "metadata": {},
   "outputs": [],
   "source": [
    "from sklearn.datasets import make_classification\n",
    "from sklearn.model_selection import train_test_split\n",
    "import matplotlib.pyplot as plt\n",
    "import numpy as np\n",
    "\n",
    "X,y = make_classification(n_samples=3000, \n",
    "                          n_features=2, n_informative=2, n_redundant=0, n_repeated=0, \n",
    "                          n_classes=4, \n",
    "                          n_clusters_per_class=1,\n",
    "                          class_sep=1.5, flip_y=0,\n",
    "                          weights=[1./3,1./3.,1/.3])\n",
    "\n"
   ]
  },
  {
   "cell_type": "code",
   "execution_count": 3,
   "metadata": {},
   "outputs": [
    {
     "name": "stdout",
     "output_type": "stream",
     "text": [
      "(3000, 2)\n"
     ]
    },
    {
     "data": {
      "image/png": "[encoded data removed]",
      "text/plain": [
       "<Figure size 432x288 with 1 Axes>"
      ]
     },
     "metadata": {
      "needs_background": "light"
     },
     "output_type": "display_data"
    },
    {
     "data": {
      "image/png": "[encoded data removed]",
      "text/plain": [
       "<Figure size 432x288 with 1 Axes>"
      ]
     },
     "metadata": {
      "needs_background": "light"
     },
     "output_type": "display_data"
    }
   ],
   "source": [
    "print(X.shape)\n",
    "X_train,X_test,y_train,y_test=train_test_split(X,y,test_size=0.2,stratify=y)\n",
    "ys = np.unique(y)\n",
    "colors_plt = ['r.', 'g.', '.b']\n",
    "plt.figure()\n",
    "plt.title(\"Train\")\n",
    "for i in range(len(ys)):\n",
    "    Xc = X_train[y_train==ys[i]]\n",
    "    plt.plot(Xc[:,0], Xc[:,1], colors_plt[i])\n",
    "plt.show()\n",
    "plt.figure()\n",
    "plt.title(\"Test\")\n",
    "for i in range(len(ys)):\n",
    "    Xc = X_test[y_test==ys[i]]\n",
    "    plt.plot(Xc[:,0], Xc[:,1], colors_plt[i])\n",
    "plt.show()\n"
   ]
  },
  {
   "cell_type": "code",
   "execution_count": 12,
   "metadata": {},
   "outputs": [
    {
     "name": "stdout",
     "output_type": "stream",
     "text": [
      "0.30357142857142855\n",
      "El acierto en train es del  30.357142857142854 %\n",
      "0.42105263157894735\n",
      "El acierto en test es del  42.10526315789473 %\n"
     ]
    }
   ],
   "source": [
    "import cv2\n",
    "import numpy as np\n",
    "\n",
    "clf = cv2.ml.NormalBayesClassifier_create()\n",
    "clf.train(np.float32(X), cv2.ml.ROW_SAMPLE, np.int32(y))\n",
    "_,predicted = clf.predict(np.float32(X_train))\n",
    "acierto_train = np.sum(1*(y_train == predicted[:,0]))/y_train.shape[0]\n",
    "print(acierto_train)\n",
    "print(\"El acierto en train es del \", acierto_train*100, \"%\")\n",
    "\n",
    "_,predicted = clf.predict(np.float32(X_test))\n",
    "acierto_test = np.sum(1*(y_test == predicted[:,0]))/y_test.shape[0]\n",
    "print(acierto_test)\n",
    "print(\"El acierto en test es del \", acierto_test*100, \"%\")"
   ]
  },
  {
   "cell_type": "markdown",
   "metadata": {},
   "source": [
    "### Naïve Bayes"
   ]
  },
  {
   "cell_type": "code",
   "execution_count": 1,
   "metadata": {},
   "outputs": [],
   "source": [
    "import numpy as np\n",
    "\n",
    "train_data = np.genfromtxt('TrainBayes.csv', delimiter=',')\n",
    "\n",
    "X = train_data[:,0:2]\n",
    "Y = train_data[:,2]"
   ]
  },
  {
   "cell_type": "code",
   "execution_count": 2,
   "metadata": {},
   "outputs": [
    {
     "data": {
      "image/png": "[encoded data removed]",
      "text/plain": [
       "<Figure size 432x288 with 1 Axes>"
      ]
     },
     "metadata": {
      "needs_background": "light"
     },
     "output_type": "display_data"
    }
   ],
   "source": [
    "from matplotlib import pyplot as plt\n",
    "\n",
    "c1 = X[Y==0]\n",
    "c2 = X[Y==1]\n",
    "\n",
    "plt.plot(c1[:,0],c1[:,1],'+',color='red')\n",
    "plt.plot(c2[:,0],c2[:,1],'+',color='blue')\n",
    "\n",
    "plt.show()"
   ]
  },
  {
   "cell_type": "code",
   "execution_count": 3,
   "metadata": {},
   "outputs": [
    {
     "data": {
      "text/plain": [
       "GaussianNB()"
      ]
     },
     "execution_count": 3,
     "metadata": {},
     "output_type": "execute_result"
    }
   ],
   "source": [
    "from sklearn.naive_bayes import GaussianNB\n",
    "gnb = GaussianNB()\n",
    "gnb.fit(X,Y)"
   ]
  },
  {
   "cell_type": "code",
   "execution_count": 4,
   "metadata": {},
   "outputs": [
    {
     "name": "stdout",
     "output_type": "stream",
     "text": [
      "El acierto en train es del  97.33333333333334 %\n"
     ]
    }
   ],
   "source": [
    "predicted = gnb.predict(X)\n",
    "acierto_train = np.sum(1*(Y == predicted))/Y.shape[0]\n",
    "\n",
    "print(\"El acierto en train es del \", acierto_train*100, \"%\")"
   ]
  },
  {
   "cell_type": "code",
   "execution_count": 5,
   "metadata": {},
   "outputs": [
    {
     "name": "stdout",
     "output_type": "stream",
     "text": [
      "El acierto en test es del  96.0 %\n"
     ]
    }
   ],
   "source": [
    "test_data = np.genfromtxt('TestBayes.csv', delimiter=',')\n",
    "X_test = test_data[:,0:2]\n",
    "Y_test = test_data[:,2]\n",
    "\n",
    "test_predicted = gnb.predict(X_test)\n",
    "acierto_test = np.sum(1*(Y_test == test_predicted))/Y_test.shape[0]\n",
    "print(\"El acierto en test es del \", acierto_test*100, \"%\")"
   ]
  },
  {
   "cell_type": "code",
   "execution_count": 6,
   "metadata": {},
   "outputs": [
    {
     "data": {
      "image/png": "[encoded data removed]",
      "text/plain": [
       "<Figure size 432x288 with 1 Axes>"
      ]
     },
     "metadata": {
      "needs_background": "light"
     },
     "output_type": "display_data"
    }
   ],
   "source": [
    "XP = []\n",
    "for x in range(0,80):\n",
    "    for y in range(0,80):\n",
    "       XP.append([x/10,y/10])\n",
    "XP = np.array(XP)\n",
    "\n",
    "YP = gnb.predict(XP).astype(int)\n",
    "\n",
    "c1 = XP[YP==0]\n",
    "c2 = XP[YP==1]\n",
    "\n",
    "plt.plot(c1[:,0],c1[:,1],'.',color='red')\n",
    "plt.plot(c2[:,0],c2[:,1],'.',color='blue')\n",
    "\n",
    "plt.show()"
   ]
  },
  {
   "cell_type": "markdown",
   "metadata": {},
   "source": [
    "### GMM"
   ]
  },
  {
   "cell_type": "code",
   "execution_count": 7,
   "metadata": {},
   "outputs": [],
   "source": [
    "import matplotlib.pyplot as plt\n",
    "from sklearn import cluster, datasets, mixture\n",
    "import numpy as np\n",
    "from scipy.stats import multivariate_normal\n",
    "from sklearn.datasets import make_spd_matrix\n",
    "plt.rcParams[\"axes.grid\"] = False\n",
    "\n",
    "# define the number of samples to be drawn\n",
    "n_samples = 100"
   ]
  },
  {
   "cell_type": "code",
   "execution_count": 8,
   "metadata": {},
   "outputs": [
    {
     "name": "stdout",
     "output_type": "stream",
     "text": [
      "Dataset shape: (400, 2)\n"
     ]
    }
   ],
   "source": [
    "# define the mean points for each of the systhetic cluster centers\n",
    "t_means = [[8.4, 8.2], [1.4, 1.6], [2.4, 5.4], [8.4, 2.4]]\n",
    "# for each cluster center, create a Positive semidefinite convariance matrix\n",
    "t_covs = []\n",
    "for s in range(len(t_means)):\n",
    "  t_covs.append(make_spd_matrix(2))\n",
    "X = []\n",
    "for mean, cov in zip(t_means,t_covs):\n",
    "  x = np.random.multivariate_normal(mean, cov, n_samples)\n",
    "  X += list(x)  \n",
    "Y=np.repeat(np.arange(1,3),n_samples*2)\n",
    "X = np.array(X)\n",
    "y_index=np.arange(0,len(X))\n",
    "np.random.shuffle(y_index)\n",
    "X=X[y_index]\n",
    "Y=Y[y_index]\n",
    "print(\"Dataset shape:\", X.shape)"
   ]
  },
  {
   "cell_type": "code",
   "execution_count": 9,
   "metadata": {},
   "outputs": [
    {
     "data": {
      "image/png": "[encoded data removed]",
      "text/plain": [
       "<Figure size 432x288 with 1 Axes>"
      ]
     },
     "metadata": {
      "needs_background": "light"
     },
     "output_type": "display_data"
    },
    {
     "data": {
      "image/png": "[encoded data removed]",
      "text/plain": [
       "<Figure size 432x288 with 1 Axes>"
      ]
     },
     "metadata": {
      "needs_background": "light"
     },
     "output_type": "display_data"
    }
   ],
   "source": [
    "from matplotlib import pyplot as plt\n",
    "plt.hist(X[Y==1,0])\n",
    "plt.show()\n",
    "from matplotlib import pyplot as plt\n",
    "plt.hist(X[Y==2,0])\n",
    "plt.show()"
   ]
  },
  {
   "cell_type": "code",
   "execution_count": 10,
   "metadata": {},
   "outputs": [],
   "source": [
    "import matplotlib.pyplot as plt\n",
    "import matplotlib as mpl\n",
    "import numpy as np\n",
    "\n",
    "from sklearn import datasets\n",
    "from sklearn.model_selection import train_test_split\n",
    "\n",
    "from sklearn.mixture import GaussianMixture\n",
    "\n",
    "\n",
    "\n",
    "n_classes = len(np.unique(Y))\n",
    "\n",
    "X_train, X_test, y_train, y_test = train_test_split(X,Y, random_state=0)"
   ]
  },
  {
   "cell_type": "code",
   "execution_count": 11,
   "metadata": {},
   "outputs": [
    {
     "name": "stdout",
     "output_type": "stream",
     "text": [
      "El acierto en train es del  49.333333333333336 %\n",
      "El acierto en test es del  51.0 %\n"
     ]
    }
   ],
   "source": [
    "model = GaussianMixture(n_components=n_classes, init_params='random', covariance_type='full')\n",
    "model.fit(X_train)\n",
    "# predict latent values\n",
    "yhat = model.predict(X_train)\n",
    "acierto_train = np.sum(1*(y_train == yhat))/y_train.shape[0]\n",
    "\n",
    "\n",
    "print(\"El acierto en train es del \", acierto_train*100, \"%\")\n",
    "\n",
    "\n",
    "# predict latent values\n",
    "yhat = model.predict(X_test)\n",
    "acierto_test = np.sum(1*(y_test == yhat))/y_test.shape[0]\n",
    "\n",
    "\n",
    "print(\"El acierto en test es del \", acierto_test*100, \"%\")"
   ]
  },
  {
   "cell_type": "markdown",
   "metadata": {},
   "source": [
    "### k-medias"
   ]
  },
  {
   "cell_type": "code",
   "execution_count": 13,
   "metadata": {},
   "outputs": [
    {
     "data": {
      "image/png": "[encoded data removed]",
      "text/plain": [
       "<Figure size 432x288 with 1 Axes>"
      ]
     },
     "metadata": {
      "needs_background": "light"
     },
     "output_type": "display_data"
    }
   ],
   "source": [
    "import numpy as np\n",
    "import cv2\n",
    "from matplotlib import pyplot as plt\n",
    "\n",
    "# Creamos al azar los patrones a clasificar\n",
    "X = np.random.randint(25,50,(25,2))\n",
    "Y = np.random.randint(60,85,(25,2))\n",
    "Z = np.vstack((X,Y))\n",
    "Z = np.float32(Z)\n",
    "\n",
    "# Aplicamos kmedias\n",
    "criteria = (cv2.TERM_CRITERIA_EPS + cv2.TERM_CRITERIA_MAX_ITER, 10, 1.0)\n",
    "ret,label,center=cv2.kmeans(Z,2,None,criteria,10,cv2.KMEANS_RANDOM_CENTERS)\n",
    "\n",
    "# Mostramos los resultados\n",
    "A = Z[label.ravel()==0]\n",
    "B = Z[label.ravel()==1]\n",
    "plt.scatter(A[:,0],A[:,1])\n",
    "plt.scatter(B[:,0],B[:,1],c = 'r')\n",
    "plt.scatter(center[:,0],center[:,1],s = 80,c = 'y', marker = 's')\n",
    "plt.show()"
   ]
  },
  {
   "cell_type": "code",
   "execution_count": null,
   "metadata": {},
   "outputs": [],
   "source": [
    "# Completar el algoritmo de k-medias"
   ]
  },
  {
   "cell_type": "markdown",
   "metadata": {},
   "source": [
    "### Reducción de dimensionalidad con PCA"
   ]
  },
  {
   "cell_type": "code",
   "execution_count": 14,
   "metadata": {},
   "outputs": [],
   "source": [
    "from sklearn import datasets\n",
    "from sklearn.decomposition import PCA\n",
    "\n",
    "iris = datasets.load_iris()\n",
    "\n",
    "X = iris.data\n",
    "y = iris.target\n",
    "target_names = iris.target_names\n",
    "\n",
    "pca = PCA(n_components=2)\n",
    "X_r = pca.fit(X).transform(X)"
   ]
  },
  {
   "cell_type": "markdown",
   "metadata": {},
   "source": [
    "### Reducción de dimensionalidad con LDA"
   ]
  },
  {
   "cell_type": "markdown",
   "metadata": {},
   "source": [
    "#### LDA biclase"
   ]
  },
  {
   "cell_type": "code",
   "execution_count": 15,
   "metadata": {},
   "outputs": [],
   "source": [
    "import numpy as np\n",
    "from matplotlib import pyplot as plt\n",
    "\n",
    "c1_a = np.random.normal(20,10,100)\n",
    "c2_a = c1_a + np.random.normal(0,1,100)\n",
    "c1_b = np.random.normal(30,10,100)\n",
    "c2_b = c1_b + 20 + np.random.normal(0,10,100)\n",
    "c_a = np.array([c1_a,c2_a])\n",
    "c_b = np.array([c1_b,c2_b])\n",
    "\n",
    "mean_a = np.mean(c_a,axis=1)\n",
    "mean_b = np.mean(c_b,axis=1)\n",
    "between = (mean_a-mean_b)*(mean_a-mean_b)\n",
    "\n",
    "covariances = np.array([np.cov(c_a),np.cov(c_b)])\n",
    "within = covariances[0]+covariances[1]\n",
    "\n",
    "F = np.dot(between,np.linalg.inv(within))"
   ]
  },
  {
   "cell_type": "code",
   "execution_count": 16,
   "metadata": {},
   "outputs": [
    {
     "data": {
      "image/png": "[encoded data removed]",
      "text/plain": [
       "<Figure size 360x360 with 1 Axes>"
      ]
     },
     "metadata": {
      "needs_background": "light"
     },
     "output_type": "display_data"
    }
   ],
   "source": [
    "# Configuramos la figura\n",
    "plt.figure(figsize=(5,5))\n",
    "minLimit = np.min(np.concatenate([c_a,c_b],axis=1)).astype(np.int)\n",
    "maxLimit = np.max(np.concatenate([c_a,c_b],axis=1)).astype(np.int)\n",
    "plt.ylim(minLimit,maxLimit)\n",
    "plt.xlim(minLimit,maxLimit)\n",
    "\n",
    "# Pintamos la nube de puntos\n",
    "plt.plot(c_a[0,:],c_a[1,:],'.',color='red')\n",
    "plt.plot(c_b[0,:],c_b[1,:],'.',color='blue')\n",
    "px=((mean_a + mean_b) / 2)[1]\n",
    "py=((mean_a + mean_b) / 2)[0]\n",
    "factor = 10\n",
    "\n",
    "# La linea naranja marca la dirección de separación óptima\n",
    "plt.plot([px, px+F[0]*factor], [py+0, py+F[1]*factor])\n",
    "plt.plot([px, px+F[1]*factor], [py, py-F[0]*factor])\n",
    "plt.show()"
   ]
  },
  {
   "cell_type": "markdown",
   "metadata": {},
   "source": [
    "#### LDA multiclase"
   ]
  },
  {
   "cell_type": "code",
   "execution_count": 18,
   "metadata": {},
   "outputs": [
    {
     "data": {
      "image/png": "[encoded data removed]",
      "text/plain": [
       "<Figure size 432x288 with 1 Axes>"
      ]
     },
     "metadata": {
      "needs_background": "light"
     },
     "output_type": "display_data"
    }
   ],
   "source": [
    "import numpy as np\n",
    "from matplotlib import pyplot as plt\n",
    "\n",
    "c1_a = np.random.normal(7,1,100)\n",
    "c2_a = c1_a * 2 + np.random.normal(5,1,100)\n",
    "\n",
    "c1_b = np.random.normal(9,1,100)\n",
    "c2_b = c1_b * 2 + np.random.normal(11,1,100)\n",
    "\n",
    "plt.plot(c1_a,c2_a,'+')\n",
    "plt.plot(c1_b,c2_b,'o')\n",
    "\n",
    "plt.show()"
   ]
  },
  {
   "cell_type": "code",
   "execution_count": 19,
   "metadata": {},
   "outputs": [
    {
     "data": {
      "image/png": "[encoded data removed]",
      "text/plain": [
       "<Figure size 432x288 with 1 Axes>"
      ]
     },
     "metadata": {
      "needs_background": "light"
     },
     "output_type": "display_data"
    }
   ],
   "source": [
    "from sklearn.discriminant_analysis import LinearDiscriminantAnalysis\n",
    "c_a = np.array([c1_a,c2_a])\n",
    "c_b = np.array([c1_b,c2_b])\n",
    "y_a = np.zeros(100)\n",
    "y_b = np.ones(100)\n",
    "X = np.concatenate((c_a,c_b),axis=1)\n",
    "X = X.transpose()\n",
    "y = np.concatenate((y_a,y_b))\n",
    "\n",
    "lda = LinearDiscriminantAnalysis()\n",
    "lda.fit(X,y)\n",
    "\n",
    "\n",
    "XT = lda.transform(X)\n",
    "plt.plot(XT[0:100],'+')\n",
    "plt.plot(XT[100:200],'o')\n",
    "plt.show()"
   ]
  },
  {
   "cell_type": "code",
   "execution_count": null,
   "metadata": {},
   "outputs": [],
   "source": []
  }
 ],
 "metadata": {
  "kernelspec": {
   "display_name": "Python 3",
   "language": "python",
   "name": "python3"
  },
  "language_info": {
   "codemirror_mode": {
    "name": "ipython",
    "version": 3
   },
   "file_extension": ".py",
   "mimetype": "text/x-python",
   "name": "python",
   "nbconvert_exporter": "python",
   "pygments_lexer": "ipython3",
   "version": "3.8.5"
  }
 },
 "nbformat": 4,
 "nbformat_minor": 4
}
