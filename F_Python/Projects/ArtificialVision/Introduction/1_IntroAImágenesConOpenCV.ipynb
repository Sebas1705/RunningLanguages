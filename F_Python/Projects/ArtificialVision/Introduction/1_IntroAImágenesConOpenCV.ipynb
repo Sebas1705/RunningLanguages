{
 "cells": [
  {
   "cell_type": "markdown",
   "metadata": {
    "id": "yZfnM23xzSQT"
   },
   "source": [
    " ### **Introducción al Manejo de imágenes con OpenCV en Python**\n",
    "\n"
   ]
  },
  {
   "cell_type": "markdown",
   "metadata": {
    "id": "VA593UdE0Gz_"
   },
   "source": [
    "\n",
    "\n",
    "*   Para trabajar con OpenCV debemos importar el módulo cv2.\n",
    "*   Para trabajar dentro del jupyter-notebook con imágenes, no podemos usar las funciones de pintado de OpenCV ([cv2.imshow(·)](https://docs.opencv.org/4.6.0/d7/dfc/group__highgui.html#ga453d42fe4cb60e5723281a89973ee563) +  [cv2.waitKey(·)](https://docs.opencv.org/4.6.0/d7/dfc/group__highgui.html#ga5628525ad33f52eab17feebcfba38bd7) pensadas para mostrar resultados de manera interactiva (usando el ratón). Por eso vamos a usar matplotlib.pyplot que funciona en los notebooks."
   ]
  },
  {
   "cell_type": "code",
   "execution_count": null,
   "metadata": {
    "colab": {
     "base_uri": "https://localhost:8080/"
    },
    "id": "EbNxcVPxBQFW",
    "outputId": "42e33e03-035c-417b-e571-1ec9310b7375"
   },
   "outputs": [],
   "source": [
    "import cv2\n",
    "import matplotlib.pyplot as plt\n",
    "import numpy as np\n",
    "\n",
    "print(cv2.__version__) # Imprimimos la versión de OpenCV"
   ]
  },
  {
   "cell_type": "code",
   "execution_count": null,
   "metadata": {
    "colab": {
     "base_uri": "https://localhost:8080/",
     "height": 321
    },
    "id": "hjoDCW9pCv5S",
    "outputId": "6c883cb1-303a-4de2-f7d3-ef0c4e167249"
   },
   "outputs": [],
   "source": [
    "I = cv2.imread(\"azul.jpg\") # , 0) si colocamos este parámetro la imagen se lee siempre en niveles de gris\n",
    "# Hay que comprobar si la imagen se ha podido leer correctamente antes de operar con ella\n",
    "if I is None:\n",
    "  print(\"Hay error\")\n",
    "\n",
    "# ERROR típico 1: No comprobarlo y pasar la imagen I a otra parte del código, \n",
    "# cuando salta un error nos va a costar localizar que es un error en el path \n",
    "# donde estaban las imágenes y que no se puede leer ninguna de disco\n",
    "\n",
    "\n",
    "print(type(I)) # imprimimos el tipo de la variable I (las imágenes en OpenCV son de la clase np.array)\n",
    "print(I.shape) # dimensiones del np.array que representa la imagen (alto x anto x número canales color) para imágenes en color\n",
    "\n",
    "Irgb = cv2.cvtColor(I, cv2.COLOR_BGR2RGB) # Las imágenes en OpenCV vienen siempre con los canales BGR en lugar de RGB\n",
    "plt.imshow(Irgb) # matplotlib.plt asume siempre imágenes RGB (R=I[:,:,0], G=I[:,:,1], B=I[:,:,2])\n",
    "\n",
    "# ERROR típico 2: No mostrar las imágenes con los colores correctos al usar\n",
    "# matplotlib"
   ]
  },
  {
   "cell_type": "code",
   "execution_count": null,
   "metadata": {
    "colab": {
     "base_uri": "https://localhost:8080/",
     "height": 304
    },
    "id": "zGGlqemHBS7g",
    "outputId": "fc92d1d6-5548-478c-bc85-060d64fddeec"
   },
   "outputs": [],
   "source": [
    "R = I[:,:,2] # sacamos el canal R de  I (recordemos que es una imagen BGR)\n",
    "print(R.shape)\n",
    "plt.imshow(R, cmap=\"gray\") # y lo pintamos como una imagen de grises"
   ]
  },
  {
   "cell_type": "code",
   "execution_count": null,
   "metadata": {
    "colab": {
     "base_uri": "https://localhost:8080/",
     "height": 182
    },
    "id": "oATm7wazwYyd",
    "outputId": "b1b44f7b-1090-4334-b35a-74d829be249e"
   },
   "outputs": [],
   "source": [
    "# Colocamos un cuadrado verde en la imagen I entre las filas 10 y 39, columnas 10 y 39\n",
    "Icopia = I.copy() # Cuando modificamos los píxeles de una imagen, muchas veces nos interesa hacerlo sobre una copia\n",
    "Icopia[10:40, 10:40, 0] = 0 #B\n",
    "Icopia[10:40, 10:40, 1] = 255 #G\n",
    "Icopia[10:40, 10:40, 2] = 0 #R\n",
    "\n",
    "plt.subplot(1, 2, 1)\n",
    "plt.imshow(cv2.cvtColor(Icopia, cv2.COLOR_BGR2RGB)) # visualizamos una imagen BGR en matplotlib.pyplot correctamente\n",
    "plt.title('Icopia')\n",
    "plt.subplot(1, 2, 2)\n",
    "plt.title('I')\n",
    "plt.imshow(cv2.cvtColor(I, cv2.COLOR_BGR2RGB)) "
   ]
  },
  {
   "cell_type": "code",
   "execution_count": null,
   "metadata": {
    "colab": {
     "base_uri": "https://localhost:8080/",
     "height": 165
    },
    "id": "RKaUbClkWYnr",
    "outputId": "3dcca0cc-17e8-4b4f-b035-bf4aefdbf944"
   },
   "outputs": [],
   "source": [
    "# Colocamos un cuadrado verde en la imagen I entre las filas 10 y 39, columnas 10 y 39\n",
    "Icopia = I # ¿Qué ocurre si no llamamos a I.copy() y asignamos únicamente la variable? \n",
    "# Los datos de la imagen están en memoria dinámica, así que modificar Icopia \n",
    "# supone modificar los datos de la imagen original \n",
    "# (Icopia = I únicamente copia la dirección del puntero a memoria dinámica)\n",
    "Icopia[10:40, 10:40, 0] = 0 #B\n",
    "Icopia[10:40, 10:40, 1] = 255 #G\n",
    "Icopia[10:40, 10:40, 2] = 0 #R\n",
    "\n",
    "plt.subplot(1, 2, 1)\n",
    "plt.imshow(cv2.cvtColor(Icopia, cv2.COLOR_BGR2RGB)) # visualizamos una imagen BGR en matplotlib.pyplot correctamente\n",
    "plt.title('Icopia')\n",
    "plt.subplot(1, 2, 2)\n",
    "plt.title('I')\n",
    "plt.imshow(cv2.cvtColor(I, cv2.COLOR_BGR2RGB)) \n",
    "\n",
    "# ERROR típico 3: Modificar una imagen sin darnos cuenta a través de otra \n",
    "# variable que apunta a la misma memoria.\n",
    "\n",
    "# Recuperamos I de disco dado que la hemos estropeado:\n",
    "I = cv2.imread(\"azul.jpeg\")\n",
    "if I is None:\n",
    "  print(\"Hay error\")\n"
   ]
  },
  {
   "cell_type": "code",
   "execution_count": null,
   "metadata": {
    "colab": {
     "base_uri": "https://localhost:8080/",
     "height": 298
    },
    "id": "tYIWCSCZwZeX",
    "outputId": "19de332c-9937-455b-f548-a052bb8d28c6"
   },
   "outputs": [],
   "source": [
    "# Hagamos ahora un recorte de la imagen original\n",
    "Icrop = Icopia[100:140, 150:200, :]\n",
    "\n",
    "plt.figure()\n",
    "plt.imshow(cv2.cvtColor(Icrop, cv2.COLOR_BGR2RGB)) # visualizamos una imagen BGR en matplotlib.pyplot correctamente\n",
    "plt.title('Icrop')"
   ]
  },
  {
   "cell_type": "markdown",
   "metadata": {},
   "source": [
    "Indexado de un numpy array con arrays de booleanos (con una condición sobre los píxeles de otro array)"
   ]
  },
  {
   "cell_type": "code",
   "execution_count": null,
   "metadata": {},
   "outputs": [],
   "source": [
    "# Creamos un np.array con una imagen pequeña formada por una lista de listas. \n",
    "# Cada fila va en una de las listas (ej. fila 0 es [1, 2, 3])\n",
    "Ipeque = np.array([[1, 2, 3], \n",
    "                   [4, 5, 6], \n",
    "                   [7, 8, 9]])\n",
    "print(Ipeque)\n",
    "\n",
    "# Obtenemos una matriz de booleanos del mismo tamaño que Ipeque donde ahora\n",
    "# tenemos True donde se cumple la condición y False en la entrada de la matriz\n",
    "# que no lo cumple.\n",
    "iguales_a_5 = (Ipeque == 5)\n",
    "print(iguales_a_5)\n",
    "print(iguales_a_5.dtype)\n",
    "\n",
    "# Usamos la matriz de booleanos para \"indexar\" en el np.array únicamente los \n",
    "# elementos que están a True. Es decir, aquellos que cumplen la condición. \n",
    "# Una vez los tenemos indexados podemos asignarles un valor únicamente a ellos\n",
    "# o realizar otras operaciones.\n",
    "Ipeque[iguales_a_5] = -1\n",
    "print(Ipeque)\n",
    "\n",
    "# En este caso la matriz de booleanos con otra condicción se genera directamente \n",
    "# en el acceso a los elementos de Ipeque. ¡Es código muy legible e intuitivo! \n",
    "# Y lo que es más importante ¡evita los bucles sobre píxeles que son muy lentos \n",
    "# en imágenes grandes!\n",
    "Ipeque[Ipeque==-1] = 50\n",
    "print(Ipeque)"
   ]
  },
  {
   "cell_type": "markdown",
   "metadata": {
    "id": "_mvaPiP_VS79"
   },
   "source": [
    "**Ejercicios sobre tipos de datos en un np.array y creación de np.arrays**\n"
   ]
  },
  {
   "cell_type": "markdown",
   "metadata": {
    "id": "qiXhZAoLVlQU"
   },
   "source": [
    "Visualizar el tipo de datos de una imagen (np.array)"
   ]
  },
  {
   "cell_type": "code",
   "execution_count": null,
   "metadata": {
    "colab": {
     "base_uri": "https://localhost:8080/"
    },
    "id": "cK_W9aY5VqhV",
    "outputId": "3fb8efbe-9bf1-4f1d-c43b-dbdb00b16859"
   },
   "outputs": [],
   "source": []
  },
  {
   "cell_type": "markdown",
   "metadata": {
    "id": "ETfmgOKDVrz9"
   },
   "source": [
    "Crear una matriz llena de ceros con tipo básico \"enteros sin signo de 8 bits\""
   ]
  },
  {
   "cell_type": "code",
   "execution_count": null,
   "metadata": {
    "colab": {
     "base_uri": "https://localhost:8080/"
    },
    "id": "tJ0w_6qKV2O6",
    "outputId": "92557659-1adb-4eb9-e606-8817d4922fef"
   },
   "outputs": [],
   "source": []
  },
  {
   "cell_type": "markdown",
   "metadata": {
    "id": "O8zWbsi1ZUY3"
   },
   "source": [
    "Ejercicio: En contrar los elementos de Ipeque que sean iguales a 5 y \n",
    "cambiarlos por -1 en un par de bucles anidados (filas, columnas). Aquí no se \n",
    "notará mucho la velocidad porque la matriz es pequeña."
   ]
  },
  {
   "cell_type": "code",
   "execution_count": null,
   "metadata": {
    "id": "g3nmC2IrZBeW"
   },
   "outputs": [],
   "source": []
  },
  {
   "cell_type": "markdown",
   "metadata": {
    "id": "uNyKCNskV2wq"
   },
   "source": [
    "Crear una matriz llena de unos con tipo básico float de 32 bits"
   ]
  },
  {
   "cell_type": "code",
   "execution_count": null,
   "metadata": {
    "colab": {
     "base_uri": "https://localhost:8080/"
    },
    "id": "ojh7l_VbWCWr",
    "outputId": "b0a8c7ea-bca2-4aca-8607-b11378da39a0"
   },
   "outputs": [],
   "source": []
  },
  {
   "cell_type": "markdown",
   "metadata": {
    "id": "37B6wpFaWPF7"
   },
   "source": [
    "Carga la imagen \"azul.jpeg\", conviertela en una matriz de tipo float de 32 bits y pintarla en matplotlib"
   ]
  },
  {
   "cell_type": "code",
   "execution_count": null,
   "metadata": {
    "colab": {
     "base_uri": "https://localhost:8080/",
     "height": 257
    },
    "id": "Ii_gOIsyW4IS",
    "outputId": "1e39706e-07d3-4b37-f24b-5b966dab3646"
   },
   "outputs": [],
   "source": []
  },
  {
   "cell_type": "markdown",
   "metadata": {
    "id": "ck6v9aMSTEs_"
   },
   "source": [
    "**Ejercicios sobre pintado con funciones de OpenCV (line, rectangle, etc):**\n",
    "\n",
    "Pinta un rectángulo rojo (sin relleno) en el centro de la imagen \"azul.jpeg\""
   ]
  },
  {
   "cell_type": "code",
   "execution_count": null,
   "metadata": {
    "colab": {
     "base_uri": "https://localhost:8080/",
     "height": 286
    },
    "id": "b1_VD9lkIBp5",
    "outputId": "19c8b236-17de-4e97-f7e0-144ac50fa824"
   },
   "outputs": [],
   "source": []
  },
  {
   "cell_type": "markdown",
   "metadata": {
    "id": "wkTZQOjXTXHx"
   },
   "source": [
    "Ahora pintar un rectángulo verde (sin relleno) sobre la misma imagen, pero cargada en modo niveles de gris."
   ]
  },
  {
   "cell_type": "code",
   "execution_count": null,
   "metadata": {
    "colab": {
     "base_uri": "https://localhost:8080/",
     "height": 286
    },
    "id": "2qwxsj31IDEq",
    "outputId": "74c460eb-b0be-41ee-ebcd-8d4f93fb180e"
   },
   "outputs": [],
   "source": [
    "\n",
    "\n"
   ]
  }
 ],
 "metadata": {
  "colab": {
   "provenance": []
  },
  "kernelspec": {
   "display_name": "Python 3 (ipykernel)",
   "language": "python",
   "name": "python3"
  },
  "language_info": {
   "codemirror_mode": {
    "name": "ipython",
    "version": 3
   },
   "file_extension": ".py",
   "mimetype": "text/x-python",
   "name": "python",
   "nbconvert_exporter": "python",
   "pygments_lexer": "ipython3",
   "version": "3.10.6"
  }
 },
 "nbformat": 4,
 "nbformat_minor": 1
}
